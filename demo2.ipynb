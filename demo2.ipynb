{
  "cells": [
    {
      "metadata": {
        "collapsed": true
      },
      "cell_type": "markdown",
      "source": "Tuple 資料型態最常用的場合是一次傳回多個參數："
    },
    {
      "metadata": {
        "trusted": true
      },
      "cell_type": "code",
      "source": "def splitString(input):\n    data = input.split(',')\n    return (data[0], data[1], data[2])",
      "execution_count": 1,
      "outputs": []
    },
    {
      "metadata": {},
      "cell_type": "markdown",
      "source": "如果傳回的多組參數之中有沒用到的，可使用 **_** 取代"
    },
    {
      "metadata": {
        "trusted": true
      },
      "cell_type": "code",
      "source": "( _ , y, z) = splitString(\"10,11,12\")\n#print(\"x= \"+x)\nprint(\"y= \"+y)\nprint(\"z= \"+z)",
      "execution_count": 2,
      "outputs": [
        {
          "output_type": "stream",
          "text": "y= 11\nz= 12\n",
          "name": "stdout"
        }
      ]
    },
    {
      "metadata": {},
      "cell_type": "markdown",
      "source": "Set(集合)資料型態支援數學的組合運算："
    },
    {
      "metadata": {
        "trusted": true
      },
      "cell_type": "code",
      "source": "set1 = {\"1\", \"2\", \"3\"}\nset2 = {\"3\", \"4\", \"5\"}\nprint(\"union= \")\nprint(set1.union(set2))\nprint(\"intersect= \")\nprint(set1.intersection(set2))",
      "execution_count": null,
      "outputs": []
    },
    {
      "metadata": {},
      "cell_type": "markdown",
      "source": "Dictionary(字典)資料型態是一種 *key-value*(鍵值) 對應，可用來儲存複雜型態的資料："
    },
    {
      "metadata": {
        "trusted": true
      },
      "cell_type": "code",
      "source": "dict = {\n  \"brand\": \"Ford\",\n  \"model\": \"Mustang\",\n  \"year\": 1964,\n  \"other\" : ['tool1', 'tool2']\n}\ndict[\"year\"] = 2019\nprint(\"dict[\\\"year\\\"] = \", dict[\"year\"])\nprint(\"dict[\\\"other\\\"] = \", dict[\"other\"] )",
      "execution_count": 3,
      "outputs": [
        {
          "output_type": "stream",
          "text": "dict[\"year\"] =  2019\ndict[\"other\"] =  ['tool1', 'tool2']\n",
          "name": "stdout"
        }
      ]
    },
    {
      "metadata": {},
      "cell_type": "markdown",
      "source": "可動態增加成員，並使用`if`判斷句來偵測是否有該成員："
    },
    {
      "metadata": {
        "trusted": true
      },
      "cell_type": "code",
      "source": "dict[\"seats\"] = 4\nif \"seats\" in dict:\n    print(\"total seats: \" + str(dict[\"seats\"]))\nelse:\n    print(\"no such property\")",
      "execution_count": 4,
      "outputs": [
        {
          "output_type": "stream",
          "text": "total seats: 4\n",
          "name": "stdout"
        }
      ]
    },
    {
      "metadata": {
        "trusted": true
      },
      "cell_type": "code",
      "source": "",
      "execution_count": null,
      "outputs": []
    }
  ],
  "metadata": {
    "kernelspec": {
      "name": "python36",
      "display_name": "Python 3.6",
      "language": "python"
    }
  },
  "nbformat": 4,
  "nbformat_minor": 2
}