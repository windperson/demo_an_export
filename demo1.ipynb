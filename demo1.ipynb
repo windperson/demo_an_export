{
  "cells": [
    {
      "metadata": {},
      "cell_type": "markdown",
      "source": "Python強型別程式語言，須轉型才能相加："
    },
    {
      "metadata": {
        "trusted": true
      },
      "cell_type": "code",
      "source": "int('123') + 456",
      "execution_count": 1,
      "outputs": [
        {
          "output_type": "execute_result",
          "execution_count": 1,
          "data": {
            "text/plain": "579"
          },
          "metadata": {}
        }
      ]
    },
    {
      "metadata": {},
      "cell_type": "markdown",
      "source": "預設的數字除法是含小數點的："
    },
    {
      "metadata": {
        "trusted": true
      },
      "cell_type": "code",
      "source": "x = 15\ny = 7\nprint(x/y)",
      "execution_count": 2,
      "outputs": [
        {
          "output_type": "stream",
          "text": "2.142857142857143\n",
          "name": "stdout"
        }
      ]
    },
    {
      "metadata": {},
      "cell_type": "markdown",
      "source": "自Python v3之後，字串預設使用Unicode，可使用+運算子直接串接："
    },
    {
      "metadata": {
        "trusted": true
      },
      "cell_type": "code",
      "source": "a = '123'\nb = '中文abc'\na + b",
      "execution_count": 3,
      "outputs": [
        {
          "output_type": "execute_result",
          "execution_count": 3,
          "data": {
            "text/plain": "'123中文abc'"
          },
          "metadata": {}
        }
      ]
    },
    {
      "metadata": {},
      "cell_type": "markdown",
      "source": "List資料型態示範"
    },
    {
      "metadata": {
        "trusted": true
      },
      "cell_type": "code",
      "source": "myList = [\"apple\", \"banana\", \"cherry\"]\nmyList.append(\"test\")\nmyList",
      "execution_count": 4,
      "outputs": [
        {
          "output_type": "execute_result",
          "execution_count": 4,
          "data": {
            "text/plain": "['apple', 'banana', 'cherry', 'test']"
          },
          "metadata": {}
        }
      ]
    },
    {
      "metadata": {},
      "cell_type": "markdown",
      "source": "可使用 pop() 方法來做到Stack(堆疊)的資料型態操作："
    },
    {
      "metadata": {
        "trusted": true
      },
      "cell_type": "code",
      "source": "x1 = myList.pop()\nprint(myList)\nx2 = myList.pop()\nprint(myList)\nprint(\"x1= \"+ x1)\nprint(\"x2= \"+ x2)\nmyList.append(\"mongo\")\nprint(myList)",
      "execution_count": 5,
      "outputs": [
        {
          "output_type": "stream",
          "text": "['apple', 'banana', 'cherry']\n['apple', 'banana']\nx1= test\nx2= cherry\n['apple', 'banana', 'mongo']\n",
          "name": "stdout"
        }
      ]
    }
  ],
  "metadata": {
    "kernelspec": {
      "name": "python36",
      "display_name": "Python 3.6",
      "language": "python"
    },
    "language_info": {
      "mimetype": "text/x-python",
      "nbconvert_exporter": "python",
      "name": "python",
      "pygments_lexer": "ipython3",
      "version": "3.6.6",
      "file_extension": ".py",
      "codemirror_mode": {
        "version": 3,
        "name": "ipython"
      }
    }
  },
  "nbformat": 4,
  "nbformat_minor": 2
}